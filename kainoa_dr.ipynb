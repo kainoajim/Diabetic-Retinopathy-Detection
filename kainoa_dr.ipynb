{
  "cells": [
    {
      "cell_type": "markdown",
      "metadata": {
        "id": "2M7CfIYUqzJB"
      },
      "source": [
        "##Setup"
      ]
    },
    {
      "cell_type": "code",
      "execution_count": 2,
      "metadata": {
        "id": "022KZR7Z1SEw"
      },
      "outputs": [],
      "source": [
        "from tqdm import tqdm\n",
        "import numpy as np\n",
        "import torch\n",
        "import torch.nn as nn\n",
        "import torch.optim as optim\n",
        "import torch.utils.data as data\n",
        "import torchvision.transforms as transforms\n",
        "import pandas as pd\n",
        "import matplotlib.pyplot as plt\n",
        "import os\n",
        "import zipfile \n",
        "import gdown\n",
        "from natsort import natsorted\n",
        "from PIL import Image\n",
        "from torch.utils.data import Dataset\n",
        "from torchvision import transforms"
      ]
    },
    {
      "cell_type": "markdown",
      "metadata": {
        "id": "W9_-Ayeuq1Wl"
      },
      "source": [
        "##Data"
      ]
    },
    {
      "cell_type": "code",
      "execution_count": 3,
      "metadata": {},
      "outputs": [
        {
          "data": {
            "text/plain": [
              "'/Users/kainoajim/Desktop'"
            ]
          },
          "execution_count": 3,
          "metadata": {},
          "output_type": "execute_result"
        }
      ],
      "source": [
        "os.getcwd()"
      ]
    },
    {
      "cell_type": "code",
      "execution_count": 4,
      "metadata": {
        "id": "rNepmmjmDvFa"
      },
      "outputs": [],
      "source": [
        "train_labels = pd.read_csv('./trainLabels.csv')\n"
      ]
    },
    {
      "cell_type": "code",
      "execution_count": 5,
      "metadata": {
        "colab": {
          "base_uri": "https://localhost:8080/"
        },
        "id": "p4I3qksUEY0q",
        "outputId": "aef09ee6-9615-431c-9114-1966653136a8"
      },
      "outputs": [],
      "source": [
        "image_names = os.listdir(\"./archive/0\")\n",
        "image_names.sort()"
      ]
    },
    {
      "cell_type": "code",
      "execution_count": 6,
      "metadata": {
        "colab": {
          "base_uri": "https://localhost:8080/",
          "height": 35
        },
        "id": "BDLDoM9dEo-v",
        "outputId": "66ccb243-0509-4d9f-f859-dae04aecc931"
      },
      "outputs": [
        {
          "data": {
            "text/plain": [
              "'./archive/0/4375_left.jpeg'"
            ]
          },
          "execution_count": 6,
          "metadata": {},
          "output_type": "execute_result"
        }
      ],
      "source": [
        "images_path = \"./archive/0\"\n",
        "img_path = os.path.join(images_path, train_labels.iloc[3500].image+\".jpeg\")\n",
        "img_path"
      ]
    },
    {
      "cell_type": "code",
      "execution_count": 7,
      "metadata": {
        "id": "gKuLsh8GFPhr"
      },
      "outputs": [],
      "source": [
        "transform=transforms.Compose([\n",
        "    transforms.Resize((299,299)),\n",
        "    transforms.ToTensor(),\n",
        "    transforms.Normalize(mean=[0.485, 0.456, 0.406], \n",
        "                         std=[0.229, 0.224, 0.225])\n",
        "])"
      ]
    },
    {
      "cell_type": "code",
      "execution_count": 8,
      "metadata": {
        "id": "CnEjRmNtFe4e"
      },
      "outputs": [],
      "source": [
        "class DRDataset(Dataset):\n",
        "    def __init__(self, imagepath=images_path, total=None,transform=transform):\n",
        "        self.df = pd.read_csv('./trainLabels.csv')\n",
        "        \n",
        "        self.transform = transform\n",
        "        self.imagepath = imagepath\n",
        "        \n",
        "    def __len__(self):\n",
        "        return len(self.df)\n",
        "    \n",
        "    def __getitem__(self, index):\n",
        "        img_path = os.path.join(self.imagepath, self.df.iloc[index].image +\".jpeg\")\n",
        "        img = Image.open(img_path)\n",
        "        \n",
        "        if(self.transform):\n",
        "            img = self.transform(img)\n",
        "        \n",
        "        return img, torch.tensor(self.df.iloc[index].level)"
      ]
    },
    {
      "cell_type": "code",
      "execution_count": 27,
      "metadata": {
        "id": "weyb0ZfIFwBd"
      },
      "outputs": [
        {
          "name": "stdout",
          "output_type": "stream",
          "text": [
            "24589\n",
            "10537\n"
          ]
        }
      ],
      "source": [
        "total_data = DRDataset(total=35126)\n",
        "\n",
        "generator = torch.Generator().manual_seed(42)\n",
        "train_data,test_data = torch.utils.data.random_split(total_data, [0.7, 0.3], generator=generator)"
      ]
    },
    {
      "cell_type": "code",
      "execution_count": 28,
      "metadata": {
        "id": "J2JvotUFmQkc"
      },
      "outputs": [],
      "source": [
        "NUM_EPOCHS = 1\n",
        "NUM_CLASSES = 5\n",
        "BATCH_SIZE = 32\n",
        "lr = 0.001\n",
        "device = torch.device('cuda' if torch.cuda.is_available() else 'cpu')"
      ]
    },
    {
      "cell_type": "markdown",
      "metadata": {
        "id": "loJSQ7_Wq3tB"
      },
      "source": [
        "##Model"
      ]
    },
    {
      "cell_type": "code",
      "execution_count": 29,
      "metadata": {
        "colab": {
          "base_uri": "https://localhost:8080/"
        },
        "id": "d_4svqv3q-aU",
        "outputId": "19ca214b-e1c1-4141-ab88-8753aefd2bde"
      },
      "outputs": [
        {
          "name": "stdout",
          "output_type": "stream",
          "text": [
            "Loaded pretrained weights for efficientnet-b0\n"
          ]
        }
      ],
      "source": [
        "\n",
        "from efficientnet_pytorch import EfficientNet\n",
        "model_efficient = EfficientNet.from_pretrained('efficientnet-b0')"
      ]
    },
    {
      "cell_type": "code",
      "execution_count": 30,
      "metadata": {
        "id": "WMmCfDjGKmIP"
      },
      "outputs": [],
      "source": [
        "model_efficient._fc = torch.nn.Linear(in_features=1280, out_features=5, bias=True)"
      ]
    },
    {
      "cell_type": "markdown",
      "metadata": {
        "id": "7hHk6M6aq-xM"
      },
      "source": [
        "##Optimize/Loss"
      ]
    },
    {
      "cell_type": "code",
      "execution_count": 31,
      "metadata": {
        "id": "BL5IitOBrGfT"
      },
      "outputs": [],
      "source": [
        "optimizer = optim.SGD(model_efficient.parameters(), lr=lr, momentum=0.9)"
      ]
    },
    {
      "cell_type": "code",
      "execution_count": 32,
      "metadata": {
        "id": "LMVso30cLP3k"
      },
      "outputs": [],
      "source": [
        "criterion = nn.CrossEntropyLoss()"
      ]
    },
    {
      "cell_type": "markdown",
      "metadata": {
        "id": "8s0aSqJSrDhr"
      },
      "source": [
        "##Training"
      ]
    },
    {
      "cell_type": "code",
      "execution_count": 33,
      "metadata": {
        "id": "uSUqkkybHJPw"
      },
      "outputs": [],
      "source": [
        "train_loader = torch.utils.data.DataLoader(dataset=train_data, batch_size=BATCH_SIZE, shuffle=True)\n",
        "train_loader_at_eval = data.DataLoader(dataset=train_data, batch_size=2*BATCH_SIZE, shuffle=False)\n",
        "test_loader = data.DataLoader(dataset=test_data, batch_size=2*BATCH_SIZE, shuffle=False)"
      ]
    },
    {
      "cell_type": "code",
      "execution_count": 34,
      "metadata": {
        "colab": {
          "base_uri": "https://localhost:8080/"
        },
        "id": "KVItqExmrGV_",
        "outputId": "69e2857b-7794-4046-f451-96a43087a3c2"
      },
      "outputs": [
        {
          "name": "stderr",
          "output_type": "stream",
          "text": [
            "100%|██████████| 769/769 [1:51:31<00:00,  8.70s/it]  \n"
          ]
        }
      ],
      "source": [
        "for epoch in range(NUM_EPOCHS):\n",
        "    \n",
        "    model_efficient.train()\n",
        "    for inputs, targets in tqdm(train_loader):\n",
        "        # forward + backward + optimize\n",
        "        optimizer.zero_grad()\n",
        "        outputs = model_efficient(inputs)\n",
        "        \n",
        "        targets = targets.to(torch.long)\n",
        "        loss = criterion(outputs, targets)\n",
        "        \n",
        "        loss.backward()\n",
        "        optimizer.step()"
      ]
    },
    {
      "cell_type": "markdown",
      "metadata": {
        "id": "dPItD3XIrE4w"
      },
      "source": [
        "##Testing"
      ]
    },
    {
      "cell_type": "code",
      "execution_count": 35,
      "metadata": {
        "colab": {
          "base_uri": "https://localhost:8080/"
        },
        "id": "nA3qH-7zrFrC",
        "outputId": "f05b7d85-914b-458e-a0d6-fc083ac3ae6d"
      },
      "outputs": [
        {
          "name": "stdout",
          "output_type": "stream",
          "text": [
            "train evaluation\n",
            "\n"
          ]
        },
        {
          "name": "stderr",
          "output_type": "stream",
          "text": [
            "100%|██████████| 385/385 [36:04<00:00,  5.62s/it]\n"
          ]
        },
        {
          "name": "stdout",
          "output_type": "stream",
          "text": [
            "out of 24589 , total correct: 18253 with an accuracy of 74.23238158226013\n",
            "test evaluation\n",
            "\n"
          ]
        },
        {
          "name": "stderr",
          "output_type": "stream",
          "text": [
            "100%|██████████| 165/165 [15:21<00:00,  5.59s/it]"
          ]
        },
        {
          "name": "stdout",
          "output_type": "stream",
          "text": [
            "out of 10537 , total correct: 7796 with an accuracy of 73.98690581321716\n"
          ]
        },
        {
          "name": "stderr",
          "output_type": "stream",
          "text": [
            "\n"
          ]
        }
      ],
      "source": [
        "\n",
        "def check_accuracy(model, loader):\n",
        "    model_efficient.eval()\n",
        "    \n",
        "    correct_output = 0\n",
        "    total_output = 0\n",
        "    \n",
        "    with torch.no_grad():\n",
        "        for x, y in tqdm(loader):\n",
        "            x = x.to(device=device)\n",
        "            y = y.to(device=device)\n",
        "            \n",
        "            score = model_efficient(x)\n",
        "            _,predictions = score.max(1)\n",
        "            \n",
        "            correct_output += (y==predictions).sum()\n",
        "            total_output += predictions.shape[0]\n",
        "    # model_efficient.train()\n",
        "    print(f\"out of {total_output} , total correct: {correct_output} with an accuracy of {float(correct_output/total_output)*100}\")\n",
        "\n",
        "print('train evaluation\\n')\n",
        "check_accuracy(model_efficient, train_loader_at_eval)\n",
        "print('test evaluation\\n')\n",
        "check_accuracy(model_efficient, test_loader)"
      ]
    }
  ],
  "metadata": {
    "colab": {
      "provenance": [],
      "toc_visible": true
    },
    "kernelspec": {
      "display_name": "Python 3",
      "name": "python3"
    },
    "language_info": {
      "codemirror_mode": {
        "name": "ipython",
        "version": 3
      },
      "file_extension": ".py",
      "mimetype": "text/x-python",
      "name": "python",
      "nbconvert_exporter": "python",
      "pygments_lexer": "ipython3",
      "version": "3.9.6"
    }
  },
  "nbformat": 4,
  "nbformat_minor": 0
}
